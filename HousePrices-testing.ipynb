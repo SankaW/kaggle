{
 "cells": [
  {
   "cell_type": "code",
   "execution_count": 15,
   "metadata": {},
   "outputs": [
    {
     "data": {
      "text/plain": [
       "(1459, 80)"
      ]
     },
     "execution_count": 15,
     "metadata": {},
     "output_type": "execute_result"
    }
   ],
   "source": [
    "import numpy as np\n",
    "import matplotlib.pyplot as plt\n",
    "#to plot figures inline\n",
    "%matplotlib inline\n",
    "import pandas as pd\n",
    "import seaborn as sns\n",
    "import tensorflow as tf\n",
    "import warnings\n",
    "\n",
    "warnings.filterwarnings('ignore')\n",
    "\n",
    "# ******************************** 1.Data exploration and Visualization *****************************\n",
    "\n",
    "df = pd.read_csv(\"csv-data-files/HousePrices/test.csv\")\n",
    "df.shape"
   ]
  },
  {
   "cell_type": "code",
   "execution_count": 16,
   "metadata": {},
   "outputs": [
    {
     "data": {
      "text/plain": [
       "(1459, 79)"
      ]
     },
     "execution_count": 16,
     "metadata": {},
     "output_type": "execute_result"
    }
   ],
   "source": [
    "df.drop(['Alley', 'PoolQC', 'Fence', 'MiscFeature', 'FireplaceQu'], axis=1, inplace=True)\n",
    "df.LotFrontage.fillna(df.LotFrontage.mean(), inplace=True) #fill NA (Not Available) values with mean value\n",
    "df.drop(['MasVnrType', 'MasVnrArea', 'BsmtQual', 'GarageYrBlt', 'GarageCond',], axis=1, inplace=True)\n",
    "df.drop(['BsmtFinType2', 'BsmtExposure'], axis=1, inplace=True)\n",
    "\n",
    "#converting other NaN places with suitable data.\n",
    "df.BsmtCond.fillna(str(df.BsmtCond.mode()), inplace=True) #fill NA values with mode.\n",
    "df.BsmtFinType1.fillna(str(df.BsmtFinType1.mode()), inplace=True) #columns are string type, so we should feed strs\n",
    "df.Electrical.fillna(str(df.Electrical.mode()), inplace=True)\n",
    "df.GarageType.fillna(str(df.GarageType.mode()), inplace=True)\n",
    "df.GarageFinish.fillna(str(df.GarageFinish.mode()), inplace=True)\n",
    "df.GarageFinish.fillna(str(df.GarageFinish.mode()), inplace=True)\n",
    "df.GarageQual.fillna(str(df.GarageQual.mode()), inplace=True)\n",
    "df.isnull().sum()\n",
    "\n",
    "\n",
    "#  *************************   changing categorical data into numbers. ************************\n",
    "MSZoning = pd.get_dummies(df.MSZoning, prefix=\"MSZoning\")\n",
    "df.drop(['MSZoning'], axis =1, inplace=True)\n",
    "df = df.join(MSZoning)\n",
    "\n",
    "Street = pd.get_dummies(df.Street, prefix=\"Street\")\n",
    "df.drop(['Street'], axis=1, inplace=True)\n",
    "df = df.join(Street)\n",
    "\n",
    "LotShape = pd.get_dummies(df.LotShape, prefix=\"LotShape\")\n",
    "df.drop(['LotShape'], axis=1, inplace=True)\n",
    "df = df.join(LotShape)\n",
    "\n",
    "LandContour = pd.get_dummies(df.LandContour, prefix=\"LandContour\")\n",
    "df.drop(['LandContour'], axis=1, inplace=True)\n",
    "df = df.join(LandContour)\n",
    "df.shape"
   ]
  },
  {
   "cell_type": "code",
   "execution_count": 17,
   "metadata": {},
   "outputs": [
    {
     "data": {
      "text/plain": [
       "(1459, 109)"
      ]
     },
     "execution_count": 17,
     "metadata": {},
     "output_type": "execute_result"
    }
   ],
   "source": [
    "###\n",
    "Utilities = pd.get_dummies(df.Utilities, prefix=\"Utilities\")\n",
    "df.drop(['Utilities'], axis =1, inplace=True)\n",
    "df = df.join(Utilities)\n",
    "\n",
    "LotConfig = pd.get_dummies(df.LotConfig, prefix=\"LotConfig\")\n",
    "df.drop(['LotConfig'], axis=1, inplace=True)\n",
    "df = df.join(LotConfig)\n",
    "\n",
    "LandSlope = pd.get_dummies(df.LandSlope, prefix=\"LandSlope\")\n",
    "df.drop(['LandSlope'], axis=1, inplace=True)\n",
    "df = df.join(LandSlope)\n",
    "\n",
    "Neighborhood = pd.get_dummies(df.Neighborhood, prefix=\"Neighborhood\")\n",
    "df.drop(['Neighborhood'], axis=1, inplace=True)\n",
    "df = df.join(Neighborhood)\n",
    "df.shape"
   ]
  },
  {
   "cell_type": "code",
   "execution_count": 18,
   "metadata": {},
   "outputs": [
    {
     "data": {
      "text/plain": [
       "(1459, 131)"
      ]
     },
     "execution_count": 18,
     "metadata": {},
     "output_type": "execute_result"
    }
   ],
   "source": [
    "###\n",
    "Condition1 = pd.get_dummies(df.Condition1, prefix=\"Condition1\")\n",
    "df.drop(['Condition1'], axis =1, inplace=True)\n",
    "df = df.join(Condition1)\n",
    "\n",
    "Condition2 = pd.get_dummies(df.Condition2, prefix=\"Condition2\")\n",
    "df.drop(['Condition2'], axis=1, inplace=True)\n",
    "df = df.join(Condition2)\n",
    "\n",
    "BldgType = pd.get_dummies(df.BldgType, prefix=\"BldgType\")\n",
    "df.drop(['BldgType'], axis=1, inplace=True)\n",
    "df = df.join(BldgType)\n",
    "\n",
    "HouseStyle = pd.get_dummies(df.HouseStyle, prefix=\"Neighborhood\")\n",
    "df.drop(['HouseStyle'], axis=1, inplace=True)\n",
    "df = df.join(HouseStyle)\n",
    "df.shape"
   ]
  },
  {
   "cell_type": "code",
   "execution_count": 19,
   "metadata": {},
   "outputs": [
    {
     "data": {
      "text/plain": [
       "(1459, 165)"
      ]
     },
     "execution_count": 19,
     "metadata": {},
     "output_type": "execute_result"
    }
   ],
   "source": [
    "###\n",
    "RoofStyle = pd.get_dummies(df.RoofStyle, prefix=\"RoofStyle\")\n",
    "df.drop(['RoofStyle'], axis =1, inplace=True)\n",
    "df = df.join(RoofStyle)\n",
    "\n",
    "RoofMatl = pd.get_dummies(df.RoofMatl, prefix=\"RoofMatl\")\n",
    "df.drop(['RoofMatl'], axis=1, inplace=True)\n",
    "df = df.join(RoofMatl)\n",
    "\n",
    "Exterior1st = pd.get_dummies(df.Exterior1st, prefix=\"Exterior1st\")\n",
    "df.drop(['Exterior1st'], axis=1, inplace=True)\n",
    "df = df.join(Exterior1st)\n",
    "\n",
    "Exterior2nd = pd.get_dummies(df.Exterior2nd, prefix=\"Exterior2nd\")\n",
    "df.drop(['Exterior2nd'], axis=1, inplace=True)\n",
    "df = df.join(Exterior2nd)\n",
    "df.shape"
   ]
  },
  {
   "cell_type": "code",
   "execution_count": 20,
   "metadata": {},
   "outputs": [
    {
     "data": {
      "text/plain": [
       "(1459, 181)"
      ]
     },
     "execution_count": 20,
     "metadata": {},
     "output_type": "execute_result"
    }
   ],
   "source": [
    "###\n",
    "ExterQual = pd.get_dummies(df.ExterQual, prefix=\"ExterQual\")\n",
    "df.drop(['ExterQual'], axis =1, inplace=True)\n",
    "df = df.join(ExterQual)\n",
    "\n",
    "ExterCond = pd.get_dummies(df.ExterCond, prefix=\"ExterCond\")\n",
    "df.drop(['ExterCond'], axis=1, inplace=True)\n",
    "df = df.join(ExterCond)\n",
    "\n",
    "Foundation = pd.get_dummies(df.Foundation, prefix=\"Foundation\")\n",
    "df.drop(['Foundation'], axis=1, inplace=True)\n",
    "df = df.join(Foundation)\n",
    "\n",
    "BsmtCond = pd.get_dummies(df.BsmtCond, prefix=\"BsmtCond\")\n",
    "df.drop(['BsmtCond'], axis=1, inplace=True)\n",
    "df = df.join(BsmtCond)\n",
    "df.shape"
   ]
  },
  {
   "cell_type": "code",
   "execution_count": 21,
   "metadata": {},
   "outputs": [
    {
     "data": {
      "text/plain": [
       "(1459, 195)"
      ]
     },
     "execution_count": 21,
     "metadata": {},
     "output_type": "execute_result"
    }
   ],
   "source": [
    "###\n",
    "BsmtFinType1 = pd.get_dummies(df.BsmtFinType1, prefix=\"BsmtFinType1\")\n",
    "df.drop(['BsmtFinType1'], axis =1, inplace=True)\n",
    "df = df.join(BsmtFinType1)\n",
    "\n",
    "Heating = pd.get_dummies(df.Heating, prefix=\"Heating\")\n",
    "df.drop(['Heating'], axis=1, inplace=True)\n",
    "df = df.join(Heating)\n",
    "\n",
    "HeatingQC = pd.get_dummies(df.HeatingQC, prefix=\"HeatingQC\")\n",
    "df.drop(['HeatingQC'], axis=1, inplace=True)\n",
    "df = df.join(HeatingQC)\n",
    "\n",
    "CentralAir = pd.get_dummies(df.CentralAir, prefix=\"CentralAir\")\n",
    "df.drop(['CentralAir'], axis=1, inplace=True)\n",
    "df = df.join(CentralAir)\n",
    "df.shape"
   ]
  },
  {
   "cell_type": "code",
   "execution_count": 22,
   "metadata": {},
   "outputs": [
    {
     "data": {
      "text/plain": [
       "(1459, 210)"
      ]
     },
     "execution_count": 22,
     "metadata": {},
     "output_type": "execute_result"
    }
   ],
   "source": [
    "###\n",
    "Electrical = pd.get_dummies(df.Electrical, prefix=\"Electrical\")\n",
    "df.drop(['Electrical'], axis =1, inplace=True)\n",
    "df = df.join(Electrical)\n",
    "\n",
    "KitchenQual = pd.get_dummies(df.KitchenQual, prefix=\"KitchenQual\")\n",
    "df.drop(['KitchenQual'], axis=1, inplace=True)\n",
    "df = df.join(KitchenQual)\n",
    "\n",
    "GarageType = pd.get_dummies(df.GarageType, prefix=\"GarageType\")\n",
    "df.drop(['GarageType'], axis=1, inplace=True)\n",
    "df = df.join(GarageType)\n",
    "\n",
    "GarageFinish = pd.get_dummies(df.GarageFinish, prefix=\"GarageFinish\")\n",
    "df.drop(['GarageFinish'], axis=1, inplace=True)\n",
    "df = df.join(GarageFinish)\n",
    "df.shape"
   ]
  },
  {
   "cell_type": "code",
   "execution_count": 23,
   "metadata": {},
   "outputs": [
    {
     "data": {
      "text/plain": [
       "(1459, 229)"
      ]
     },
     "execution_count": 23,
     "metadata": {},
     "output_type": "execute_result"
    }
   ],
   "source": [
    "###\n",
    "GarageQual = pd.get_dummies(df.GarageQual, prefix=\"GarageQual\")\n",
    "df.drop(['GarageQual'], axis =1, inplace=True)\n",
    "df = df.join(GarageQual)\n",
    "\n",
    "PavedDrive = pd.get_dummies(df.PavedDrive, prefix=\"PavedDrive\")\n",
    "df.drop(['PavedDrive'], axis=1, inplace=True)\n",
    "df = df.join(PavedDrive)\n",
    "\n",
    "SaleType = pd.get_dummies(df.SaleType, prefix=\"SaleType\")\n",
    "df.drop(['SaleType'], axis=1, inplace=True)\n",
    "df = df.join(SaleType)\n",
    "\n",
    "SaleCondition = pd.get_dummies(df.SaleCondition, prefix=\"SaleCondition\")\n",
    "df.drop(['SaleCondition'], axis=1, inplace=True)\n",
    "df = df.join(SaleCondition)\n",
    "df.shape"
   ]
  },
  {
   "cell_type": "code",
   "execution_count": 24,
   "metadata": {},
   "outputs": [],
   "source": [
    "def min_max(x, min, max):\n",
    "    x = (x - min) / (max - min)\n",
    "    return x\n",
    "\n",
    "func = lambda x: min_max(x, x.min(), x.max()) \n",
    "\n",
    "df['MSSubClass'] = df.MSSubClass.astype(float)\n",
    "df[['MSSubClass', 'LotFrontage', 'OverallQual', 'LotArea']] = df[['MSSubClass', 'LotFrontage', 'OverallQual', 'LotArea']].apply(func)\n",
    "df[['OverallCond', 'YearBuilt', 'YearRemodAdd', 'BsmtFinSF1']] = df[['OverallCond', 'YearBuilt', 'YearRemodAdd', 'BsmtFinSF1']].apply(func)\n",
    "df[['BsmtFinSF2', 'BsmtUnfSF', 'TotalBsmtSF','1stFlrSF']] = df[['BsmtFinSF2', 'BsmtUnfSF', 'TotalBsmtSF','1stFlrSF']].apply(func)\n",
    "df[['2ndFlrSF', 'LowQualFinSF', 'GrLivArea', 'BsmtFullBath']] = df[['2ndFlrSF', 'LowQualFinSF', 'GrLivArea', 'BsmtFullBath']].apply(func)\n",
    "df[['BsmtHalfBath', 'FullBath', 'HalfBath', 'BedroomAbvGr', 'KitchenAbvGr']] = df[['BsmtHalfBath', 'FullBath', 'HalfBath', 'BedroomAbvGr', 'KitchenAbvGr']].apply(func)\n",
    "\n",
    "Functional_dummies = pd.get_dummies(df.Functional, prefix=\"Functional\")\n",
    "df.drop(['Functional'], axis=1, inplace=True)\n",
    "df = df.join(Functional_dummies)\n",
    "\n",
    "df[['TotRmsAbvGrd', 'Fireplaces', 'GarageCars', 'GarageArea', 'WoodDeckSF', 'OpenPorchSF']] = df[['TotRmsAbvGrd', 'Fireplaces', 'GarageCars', 'GarageArea', 'WoodDeckSF', 'OpenPorchSF']].apply(func)\n",
    "df[['EnclosedPorch', '3SsnPorch', 'ScreenPorch', 'PoolArea', 'MiscVal', 'MoSold', 'YrSold']] = df[['EnclosedPorch', '3SsnPorch', 'ScreenPorch', 'PoolArea', 'MiscVal', 'MoSold', 'YrSold']].apply(func)\n",
    "\n",
    "ids = df.Id\n",
    "X = df.values #convert to numpy.ndarray\n",
    "train_x = X"
   ]
  },
  {
   "cell_type": "code",
   "execution_count": 25,
   "metadata": {},
   "outputs": [
    {
     "data": {
      "text/plain": [
       "(1459, 235)"
      ]
     },
     "execution_count": 25,
     "metadata": {},
     "output_type": "execute_result"
    }
   ],
   "source": [
    "df.shape"
   ]
  },
  {
   "cell_type": "code",
   "execution_count": 26,
   "metadata": {},
   "outputs": [
    {
     "name": "stdout",
     "output_type": "stream",
     "text": [
      "INFO:tensorflow:Restoring parameters from ./HousePrices_train_model.ckpt\n"
     ]
    },
    {
     "ename": "InvalidArgumentError",
     "evalue": "Assign requires shapes of both tensors to match. lhs shape= [252,20] rhs shape= [251,20]\n\t [[Node: save_1/Assign_8 = Assign[T=DT_FLOAT, _class=[\"loc:@Variable_6\"], use_locking=true, validate_shape=true, _device=\"/job:localhost/replica:0/task:0/device:CPU:0\"](Variable_6, save_1/RestoreV2_8)]]\n\nCaused by op u'save_1/Assign_8', defined at:\n  File \"/usr/lib/python2.7/runpy.py\", line 174, in _run_module_as_main\n    \"__main__\", fname, loader, pkg_name)\n  File \"/usr/lib/python2.7/runpy.py\", line 72, in _run_code\n    exec code in run_globals\n  File \"/home/ashan/.virtualenvs/kaggle/lib/python2.7/site-packages/ipykernel_launcher.py\", line 16, in <module>\n    app.launch_new_instance()\n  File \"/home/ashan/.virtualenvs/kaggle/local/lib/python2.7/site-packages/traitlets/config/application.py\", line 658, in launch_instance\n    app.start()\n  File \"/home/ashan/.virtualenvs/kaggle/local/lib/python2.7/site-packages/ipykernel/kernelapp.py\", line 478, in start\n    self.io_loop.start()\n  File \"/home/ashan/.virtualenvs/kaggle/local/lib/python2.7/site-packages/zmq/eventloop/ioloop.py\", line 177, in start\n    super(ZMQIOLoop, self).start()\n  File \"/home/ashan/.virtualenvs/kaggle/local/lib/python2.7/site-packages/tornado/ioloop.py\", line 888, in start\n    handler_func(fd_obj, events)\n  File \"/home/ashan/.virtualenvs/kaggle/local/lib/python2.7/site-packages/tornado/stack_context.py\", line 277, in null_wrapper\n    return fn(*args, **kwargs)\n  File \"/home/ashan/.virtualenvs/kaggle/local/lib/python2.7/site-packages/zmq/eventloop/zmqstream.py\", line 440, in _handle_events\n    self._handle_recv()\n  File \"/home/ashan/.virtualenvs/kaggle/local/lib/python2.7/site-packages/zmq/eventloop/zmqstream.py\", line 472, in _handle_recv\n    self._run_callback(callback, msg)\n  File \"/home/ashan/.virtualenvs/kaggle/local/lib/python2.7/site-packages/zmq/eventloop/zmqstream.py\", line 414, in _run_callback\n    callback(*args, **kwargs)\n  File \"/home/ashan/.virtualenvs/kaggle/local/lib/python2.7/site-packages/tornado/stack_context.py\", line 277, in null_wrapper\n    return fn(*args, **kwargs)\n  File \"/home/ashan/.virtualenvs/kaggle/local/lib/python2.7/site-packages/ipykernel/kernelbase.py\", line 283, in dispatcher\n    return self.dispatch_shell(stream, msg)\n  File \"/home/ashan/.virtualenvs/kaggle/local/lib/python2.7/site-packages/ipykernel/kernelbase.py\", line 233, in dispatch_shell\n    handler(stream, idents, msg)\n  File \"/home/ashan/.virtualenvs/kaggle/local/lib/python2.7/site-packages/ipykernel/kernelbase.py\", line 399, in execute_request\n    user_expressions, allow_stdin)\n  File \"/home/ashan/.virtualenvs/kaggle/local/lib/python2.7/site-packages/ipykernel/ipkernel.py\", line 208, in do_execute\n    res = shell.run_cell(code, store_history=store_history, silent=silent)\n  File \"/home/ashan/.virtualenvs/kaggle/local/lib/python2.7/site-packages/ipykernel/zmqshell.py\", line 537, in run_cell\n    return super(ZMQInteractiveShell, self).run_cell(*args, **kwargs)\n  File \"/home/ashan/.virtualenvs/kaggle/local/lib/python2.7/site-packages/IPython/core/interactiveshell.py\", line 2718, in run_cell\n    interactivity=interactivity, compiler=compiler, result=result)\n  File \"/home/ashan/.virtualenvs/kaggle/local/lib/python2.7/site-packages/IPython/core/interactiveshell.py\", line 2822, in run_ast_nodes\n    if self.run_code(code, result):\n  File \"/home/ashan/.virtualenvs/kaggle/local/lib/python2.7/site-packages/IPython/core/interactiveshell.py\", line 2882, in run_code\n    exec(code_obj, self.user_global_ns, self.user_ns)\n  File \"<ipython-input-26-cc1487e6394e>\", line 55, in <module>\n    prediction(x)\n  File \"<ipython-input-26-cc1487e6394e>\", line 44, in prediction\n    saver = tf.train.Saver()\n  File \"/home/ashan/.virtualenvs/kaggle/local/lib/python2.7/site-packages/tensorflow/python/training/saver.py\", line 1218, in __init__\n    self.build()\n  File \"/home/ashan/.virtualenvs/kaggle/local/lib/python2.7/site-packages/tensorflow/python/training/saver.py\", line 1227, in build\n    self._build(self._filename, build_save=True, build_restore=True)\n  File \"/home/ashan/.virtualenvs/kaggle/local/lib/python2.7/site-packages/tensorflow/python/training/saver.py\", line 1263, in _build\n    build_save=build_save, build_restore=build_restore)\n  File \"/home/ashan/.virtualenvs/kaggle/local/lib/python2.7/site-packages/tensorflow/python/training/saver.py\", line 751, in _build_internal\n    restore_sequentially, reshape)\n  File \"/home/ashan/.virtualenvs/kaggle/local/lib/python2.7/site-packages/tensorflow/python/training/saver.py\", line 439, in _AddRestoreOps\n    assign_ops.append(saveable.restore(tensors, shapes))\n  File \"/home/ashan/.virtualenvs/kaggle/local/lib/python2.7/site-packages/tensorflow/python/training/saver.py\", line 160, in restore\n    self.op.get_shape().is_fully_defined())\n  File \"/home/ashan/.virtualenvs/kaggle/local/lib/python2.7/site-packages/tensorflow/python/ops/state_ops.py\", line 276, in assign\n    validate_shape=validate_shape)\n  File \"/home/ashan/.virtualenvs/kaggle/local/lib/python2.7/site-packages/tensorflow/python/ops/gen_state_ops.py\", line 57, in assign\n    use_locking=use_locking, name=name)\n  File \"/home/ashan/.virtualenvs/kaggle/local/lib/python2.7/site-packages/tensorflow/python/framework/op_def_library.py\", line 787, in _apply_op_helper\n    op_def=op_def)\n  File \"/home/ashan/.virtualenvs/kaggle/local/lib/python2.7/site-packages/tensorflow/python/framework/ops.py\", line 2956, in create_op\n    op_def=op_def)\n  File \"/home/ashan/.virtualenvs/kaggle/local/lib/python2.7/site-packages/tensorflow/python/framework/ops.py\", line 1470, in __init__\n    self._traceback = self._graph._extract_stack()  # pylint: disable=protected-access\n\nInvalidArgumentError (see above for traceback): Assign requires shapes of both tensors to match. lhs shape= [252,20] rhs shape= [251,20]\n\t [[Node: save_1/Assign_8 = Assign[T=DT_FLOAT, _class=[\"loc:@Variable_6\"], use_locking=true, validate_shape=true, _device=\"/job:localhost/replica:0/task:0/device:CPU:0\"](Variable_6, save_1/RestoreV2_8)]]\n",
     "output_type": "error",
     "traceback": [
      "\u001b[0;31m---------------------------------------------------------------------------\u001b[0m",
      "\u001b[0;31mInvalidArgumentError\u001b[0m                      Traceback (most recent call last)",
      "\u001b[0;32m<ipython-input-26-cc1487e6394e>\u001b[0m in \u001b[0;36m<module>\u001b[0;34m()\u001b[0m\n\u001b[1;32m     53\u001b[0m             \u001b[0mj\u001b[0m \u001b[0;34m+=\u001b[0m \u001b[0;36m1\u001b[0m\u001b[0;34m\u001b[0m\u001b[0m\n\u001b[1;32m     54\u001b[0m \u001b[0;34m\u001b[0m\u001b[0m\n\u001b[0;32m---> 55\u001b[0;31m \u001b[0mprediction\u001b[0m\u001b[0;34m(\u001b[0m\u001b[0mx\u001b[0m\u001b[0;34m)\u001b[0m\u001b[0;34m\u001b[0m\u001b[0m\n\u001b[0m\u001b[1;32m     56\u001b[0m \u001b[0mprediction_array\u001b[0m\u001b[0;34m[\u001b[0m\u001b[0;36m0\u001b[0m\u001b[0;34m]\u001b[0m\u001b[0;34m\u001b[0m\u001b[0m\n",
      "\u001b[0;32m<ipython-input-26-cc1487e6394e>\u001b[0m in \u001b[0;36mprediction\u001b[0;34m(features)\u001b[0m\n\u001b[1;32m     45\u001b[0m \u001b[0;34m\u001b[0m\u001b[0m\n\u001b[1;32m     46\u001b[0m     \u001b[0;32mwith\u001b[0m \u001b[0mtf\u001b[0m\u001b[0;34m.\u001b[0m\u001b[0mSession\u001b[0m\u001b[0;34m(\u001b[0m\u001b[0;34m)\u001b[0m \u001b[0;32mas\u001b[0m \u001b[0msess\u001b[0m\u001b[0;34m:\u001b[0m\u001b[0;34m\u001b[0m\u001b[0m\n\u001b[0;32m---> 47\u001b[0;31m         \u001b[0msaver\u001b[0m\u001b[0;34m.\u001b[0m\u001b[0mrestore\u001b[0m\u001b[0;34m(\u001b[0m\u001b[0msess\u001b[0m\u001b[0;34m,\u001b[0m \u001b[0msave_file\u001b[0m\u001b[0;34m)\u001b[0m\u001b[0;34m\u001b[0m\u001b[0m\n\u001b[0m\u001b[1;32m     48\u001b[0m \u001b[0;34m\u001b[0m\u001b[0m\n\u001b[1;32m     49\u001b[0m         \u001b[0mj\u001b[0m \u001b[0;34m=\u001b[0m \u001b[0;36m1\u001b[0m\u001b[0;34m\u001b[0m\u001b[0m\n",
      "\u001b[0;32m/home/ashan/.virtualenvs/kaggle/local/lib/python2.7/site-packages/tensorflow/python/training/saver.pyc\u001b[0m in \u001b[0;36mrestore\u001b[0;34m(self, sess, save_path)\u001b[0m\n\u001b[1;32m   1664\u001b[0m     \u001b[0;32mif\u001b[0m \u001b[0mcontext\u001b[0m\u001b[0;34m.\u001b[0m\u001b[0min_graph_mode\u001b[0m\u001b[0;34m(\u001b[0m\u001b[0;34m)\u001b[0m\u001b[0;34m:\u001b[0m\u001b[0;34m\u001b[0m\u001b[0m\n\u001b[1;32m   1665\u001b[0m       sess.run(self.saver_def.restore_op_name,\n\u001b[0;32m-> 1666\u001b[0;31m                {self.saver_def.filename_tensor_name: save_path})\n\u001b[0m\u001b[1;32m   1667\u001b[0m     \u001b[0;32melse\u001b[0m\u001b[0;34m:\u001b[0m\u001b[0;34m\u001b[0m\u001b[0m\n\u001b[1;32m   1668\u001b[0m       \u001b[0mself\u001b[0m\u001b[0;34m.\u001b[0m\u001b[0m_build_eager\u001b[0m\u001b[0;34m(\u001b[0m\u001b[0msave_path\u001b[0m\u001b[0;34m,\u001b[0m \u001b[0mbuild_save\u001b[0m\u001b[0;34m=\u001b[0m\u001b[0mFalse\u001b[0m\u001b[0;34m,\u001b[0m \u001b[0mbuild_restore\u001b[0m\u001b[0;34m=\u001b[0m\u001b[0mTrue\u001b[0m\u001b[0;34m)\u001b[0m\u001b[0;34m\u001b[0m\u001b[0m\n",
      "\u001b[0;32m/home/ashan/.virtualenvs/kaggle/local/lib/python2.7/site-packages/tensorflow/python/client/session.pyc\u001b[0m in \u001b[0;36mrun\u001b[0;34m(self, fetches, feed_dict, options, run_metadata)\u001b[0m\n\u001b[1;32m    887\u001b[0m     \u001b[0;32mtry\u001b[0m\u001b[0;34m:\u001b[0m\u001b[0;34m\u001b[0m\u001b[0m\n\u001b[1;32m    888\u001b[0m       result = self._run(None, fetches, feed_dict, options_ptr,\n\u001b[0;32m--> 889\u001b[0;31m                          run_metadata_ptr)\n\u001b[0m\u001b[1;32m    890\u001b[0m       \u001b[0;32mif\u001b[0m \u001b[0mrun_metadata\u001b[0m\u001b[0;34m:\u001b[0m\u001b[0;34m\u001b[0m\u001b[0m\n\u001b[1;32m    891\u001b[0m         \u001b[0mproto_data\u001b[0m \u001b[0;34m=\u001b[0m \u001b[0mtf_session\u001b[0m\u001b[0;34m.\u001b[0m\u001b[0mTF_GetBuffer\u001b[0m\u001b[0;34m(\u001b[0m\u001b[0mrun_metadata_ptr\u001b[0m\u001b[0;34m)\u001b[0m\u001b[0;34m\u001b[0m\u001b[0m\n",
      "\u001b[0;32m/home/ashan/.virtualenvs/kaggle/local/lib/python2.7/site-packages/tensorflow/python/client/session.pyc\u001b[0m in \u001b[0;36m_run\u001b[0;34m(self, handle, fetches, feed_dict, options, run_metadata)\u001b[0m\n\u001b[1;32m   1118\u001b[0m     \u001b[0;32mif\u001b[0m \u001b[0mfinal_fetches\u001b[0m \u001b[0;32mor\u001b[0m \u001b[0mfinal_targets\u001b[0m \u001b[0;32mor\u001b[0m \u001b[0;34m(\u001b[0m\u001b[0mhandle\u001b[0m \u001b[0;32mand\u001b[0m \u001b[0mfeed_dict_tensor\u001b[0m\u001b[0;34m)\u001b[0m\u001b[0;34m:\u001b[0m\u001b[0;34m\u001b[0m\u001b[0m\n\u001b[1;32m   1119\u001b[0m       results = self._do_run(handle, final_targets, final_fetches,\n\u001b[0;32m-> 1120\u001b[0;31m                              feed_dict_tensor, options, run_metadata)\n\u001b[0m\u001b[1;32m   1121\u001b[0m     \u001b[0;32melse\u001b[0m\u001b[0;34m:\u001b[0m\u001b[0;34m\u001b[0m\u001b[0m\n\u001b[1;32m   1122\u001b[0m       \u001b[0mresults\u001b[0m \u001b[0;34m=\u001b[0m \u001b[0;34m[\u001b[0m\u001b[0;34m]\u001b[0m\u001b[0;34m\u001b[0m\u001b[0m\n",
      "\u001b[0;32m/home/ashan/.virtualenvs/kaggle/local/lib/python2.7/site-packages/tensorflow/python/client/session.pyc\u001b[0m in \u001b[0;36m_do_run\u001b[0;34m(self, handle, target_list, fetch_list, feed_dict, options, run_metadata)\u001b[0m\n\u001b[1;32m   1315\u001b[0m     \u001b[0;32mif\u001b[0m \u001b[0mhandle\u001b[0m \u001b[0;32mis\u001b[0m \u001b[0mNone\u001b[0m\u001b[0;34m:\u001b[0m\u001b[0;34m\u001b[0m\u001b[0m\n\u001b[1;32m   1316\u001b[0m       return self._do_call(_run_fn, self._session, feeds, fetches, targets,\n\u001b[0;32m-> 1317\u001b[0;31m                            options, run_metadata)\n\u001b[0m\u001b[1;32m   1318\u001b[0m     \u001b[0;32melse\u001b[0m\u001b[0;34m:\u001b[0m\u001b[0;34m\u001b[0m\u001b[0m\n\u001b[1;32m   1319\u001b[0m       \u001b[0;32mreturn\u001b[0m \u001b[0mself\u001b[0m\u001b[0;34m.\u001b[0m\u001b[0m_do_call\u001b[0m\u001b[0;34m(\u001b[0m\u001b[0m_prun_fn\u001b[0m\u001b[0;34m,\u001b[0m \u001b[0mself\u001b[0m\u001b[0;34m.\u001b[0m\u001b[0m_session\u001b[0m\u001b[0;34m,\u001b[0m \u001b[0mhandle\u001b[0m\u001b[0;34m,\u001b[0m \u001b[0mfeeds\u001b[0m\u001b[0;34m,\u001b[0m \u001b[0mfetches\u001b[0m\u001b[0;34m)\u001b[0m\u001b[0;34m\u001b[0m\u001b[0m\n",
      "\u001b[0;32m/home/ashan/.virtualenvs/kaggle/local/lib/python2.7/site-packages/tensorflow/python/client/session.pyc\u001b[0m in \u001b[0;36m_do_call\u001b[0;34m(self, fn, *args)\u001b[0m\n\u001b[1;32m   1334\u001b[0m         \u001b[0;32mexcept\u001b[0m \u001b[0mKeyError\u001b[0m\u001b[0;34m:\u001b[0m\u001b[0;34m\u001b[0m\u001b[0m\n\u001b[1;32m   1335\u001b[0m           \u001b[0;32mpass\u001b[0m\u001b[0;34m\u001b[0m\u001b[0m\n\u001b[0;32m-> 1336\u001b[0;31m       \u001b[0;32mraise\u001b[0m \u001b[0mtype\u001b[0m\u001b[0;34m(\u001b[0m\u001b[0me\u001b[0m\u001b[0;34m)\u001b[0m\u001b[0;34m(\u001b[0m\u001b[0mnode_def\u001b[0m\u001b[0;34m,\u001b[0m \u001b[0mop\u001b[0m\u001b[0;34m,\u001b[0m \u001b[0mmessage\u001b[0m\u001b[0;34m)\u001b[0m\u001b[0;34m\u001b[0m\u001b[0m\n\u001b[0m\u001b[1;32m   1337\u001b[0m \u001b[0;34m\u001b[0m\u001b[0m\n\u001b[1;32m   1338\u001b[0m   \u001b[0;32mdef\u001b[0m \u001b[0m_extend_graph\u001b[0m\u001b[0;34m(\u001b[0m\u001b[0mself\u001b[0m\u001b[0;34m)\u001b[0m\u001b[0;34m:\u001b[0m\u001b[0;34m\u001b[0m\u001b[0m\n",
      "\u001b[0;31mInvalidArgumentError\u001b[0m: Assign requires shapes of both tensors to match. lhs shape= [252,20] rhs shape= [251,20]\n\t [[Node: save_1/Assign_8 = Assign[T=DT_FLOAT, _class=[\"loc:@Variable_6\"], use_locking=true, validate_shape=true, _device=\"/job:localhost/replica:0/task:0/device:CPU:0\"](Variable_6, save_1/RestoreV2_8)]]\n\nCaused by op u'save_1/Assign_8', defined at:\n  File \"/usr/lib/python2.7/runpy.py\", line 174, in _run_module_as_main\n    \"__main__\", fname, loader, pkg_name)\n  File \"/usr/lib/python2.7/runpy.py\", line 72, in _run_code\n    exec code in run_globals\n  File \"/home/ashan/.virtualenvs/kaggle/lib/python2.7/site-packages/ipykernel_launcher.py\", line 16, in <module>\n    app.launch_new_instance()\n  File \"/home/ashan/.virtualenvs/kaggle/local/lib/python2.7/site-packages/traitlets/config/application.py\", line 658, in launch_instance\n    app.start()\n  File \"/home/ashan/.virtualenvs/kaggle/local/lib/python2.7/site-packages/ipykernel/kernelapp.py\", line 478, in start\n    self.io_loop.start()\n  File \"/home/ashan/.virtualenvs/kaggle/local/lib/python2.7/site-packages/zmq/eventloop/ioloop.py\", line 177, in start\n    super(ZMQIOLoop, self).start()\n  File \"/home/ashan/.virtualenvs/kaggle/local/lib/python2.7/site-packages/tornado/ioloop.py\", line 888, in start\n    handler_func(fd_obj, events)\n  File \"/home/ashan/.virtualenvs/kaggle/local/lib/python2.7/site-packages/tornado/stack_context.py\", line 277, in null_wrapper\n    return fn(*args, **kwargs)\n  File \"/home/ashan/.virtualenvs/kaggle/local/lib/python2.7/site-packages/zmq/eventloop/zmqstream.py\", line 440, in _handle_events\n    self._handle_recv()\n  File \"/home/ashan/.virtualenvs/kaggle/local/lib/python2.7/site-packages/zmq/eventloop/zmqstream.py\", line 472, in _handle_recv\n    self._run_callback(callback, msg)\n  File \"/home/ashan/.virtualenvs/kaggle/local/lib/python2.7/site-packages/zmq/eventloop/zmqstream.py\", line 414, in _run_callback\n    callback(*args, **kwargs)\n  File \"/home/ashan/.virtualenvs/kaggle/local/lib/python2.7/site-packages/tornado/stack_context.py\", line 277, in null_wrapper\n    return fn(*args, **kwargs)\n  File \"/home/ashan/.virtualenvs/kaggle/local/lib/python2.7/site-packages/ipykernel/kernelbase.py\", line 283, in dispatcher\n    return self.dispatch_shell(stream, msg)\n  File \"/home/ashan/.virtualenvs/kaggle/local/lib/python2.7/site-packages/ipykernel/kernelbase.py\", line 233, in dispatch_shell\n    handler(stream, idents, msg)\n  File \"/home/ashan/.virtualenvs/kaggle/local/lib/python2.7/site-packages/ipykernel/kernelbase.py\", line 399, in execute_request\n    user_expressions, allow_stdin)\n  File \"/home/ashan/.virtualenvs/kaggle/local/lib/python2.7/site-packages/ipykernel/ipkernel.py\", line 208, in do_execute\n    res = shell.run_cell(code, store_history=store_history, silent=silent)\n  File \"/home/ashan/.virtualenvs/kaggle/local/lib/python2.7/site-packages/ipykernel/zmqshell.py\", line 537, in run_cell\n    return super(ZMQInteractiveShell, self).run_cell(*args, **kwargs)\n  File \"/home/ashan/.virtualenvs/kaggle/local/lib/python2.7/site-packages/IPython/core/interactiveshell.py\", line 2718, in run_cell\n    interactivity=interactivity, compiler=compiler, result=result)\n  File \"/home/ashan/.virtualenvs/kaggle/local/lib/python2.7/site-packages/IPython/core/interactiveshell.py\", line 2822, in run_ast_nodes\n    if self.run_code(code, result):\n  File \"/home/ashan/.virtualenvs/kaggle/local/lib/python2.7/site-packages/IPython/core/interactiveshell.py\", line 2882, in run_code\n    exec(code_obj, self.user_global_ns, self.user_ns)\n  File \"<ipython-input-26-cc1487e6394e>\", line 55, in <module>\n    prediction(x)\n  File \"<ipython-input-26-cc1487e6394e>\", line 44, in prediction\n    saver = tf.train.Saver()\n  File \"/home/ashan/.virtualenvs/kaggle/local/lib/python2.7/site-packages/tensorflow/python/training/saver.py\", line 1218, in __init__\n    self.build()\n  File \"/home/ashan/.virtualenvs/kaggle/local/lib/python2.7/site-packages/tensorflow/python/training/saver.py\", line 1227, in build\n    self._build(self._filename, build_save=True, build_restore=True)\n  File \"/home/ashan/.virtualenvs/kaggle/local/lib/python2.7/site-packages/tensorflow/python/training/saver.py\", line 1263, in _build\n    build_save=build_save, build_restore=build_restore)\n  File \"/home/ashan/.virtualenvs/kaggle/local/lib/python2.7/site-packages/tensorflow/python/training/saver.py\", line 751, in _build_internal\n    restore_sequentially, reshape)\n  File \"/home/ashan/.virtualenvs/kaggle/local/lib/python2.7/site-packages/tensorflow/python/training/saver.py\", line 439, in _AddRestoreOps\n    assign_ops.append(saveable.restore(tensors, shapes))\n  File \"/home/ashan/.virtualenvs/kaggle/local/lib/python2.7/site-packages/tensorflow/python/training/saver.py\", line 160, in restore\n    self.op.get_shape().is_fully_defined())\n  File \"/home/ashan/.virtualenvs/kaggle/local/lib/python2.7/site-packages/tensorflow/python/ops/state_ops.py\", line 276, in assign\n    validate_shape=validate_shape)\n  File \"/home/ashan/.virtualenvs/kaggle/local/lib/python2.7/site-packages/tensorflow/python/ops/gen_state_ops.py\", line 57, in assign\n    use_locking=use_locking, name=name)\n  File \"/home/ashan/.virtualenvs/kaggle/local/lib/python2.7/site-packages/tensorflow/python/framework/op_def_library.py\", line 787, in _apply_op_helper\n    op_def=op_def)\n  File \"/home/ashan/.virtualenvs/kaggle/local/lib/python2.7/site-packages/tensorflow/python/framework/ops.py\", line 2956, in create_op\n    op_def=op_def)\n  File \"/home/ashan/.virtualenvs/kaggle/local/lib/python2.7/site-packages/tensorflow/python/framework/ops.py\", line 1470, in __init__\n    self._traceback = self._graph._extract_stack()  # pylint: disable=protected-access\n\nInvalidArgumentError (see above for traceback): Assign requires shapes of both tensors to match. lhs shape= [252,20] rhs shape= [251,20]\n\t [[Node: save_1/Assign_8 = Assign[T=DT_FLOAT, _class=[\"loc:@Variable_6\"], use_locking=true, validate_shape=true, _device=\"/job:localhost/replica:0/task:0/device:CPU:0\"](Variable_6, save_1/RestoreV2_8)]]\n"
     ]
    }
   ],
   "source": [
    "import math\n",
    "#placeholders\n",
    "x = tf.placeholder(tf.float32, shape=[None, 252])\n",
    "\n",
    "#settings\n",
    "batch_size = 1\n",
    "layer1_nodes = 20\n",
    "layer2_nodes = 20\n",
    "output_nodes = 1\n",
    "\n",
    "prediction_array =[]\n",
    "\n",
    "#create model\n",
    "def model(data):\n",
    "    layer_1={\n",
    "        'weights' : tf.Variable(tf.random_normal([252, layer1_nodes])),\n",
    "        'bias' : tf.Variable(tf.random_normal([layer1_nodes]))\n",
    "    }\n",
    "    \n",
    "    layer_2={\n",
    "        'weights':tf.Variable(tf.random_normal([layer1_nodes, layer2_nodes])),\n",
    "        'bias' : tf.Variable(tf.random_normal([layer2_nodes]))\n",
    "    }\n",
    "    \n",
    "    output_layer={\n",
    "        'weights': tf.Variable(tf.random_normal([layer2_nodes, output_nodes])),\n",
    "        'bias' : tf.Variable(tf.random_normal([output_nodes]))\n",
    "    }\n",
    "    \n",
    "    operation_layer1 = tf.add(tf.matmul(data, layer_1['weights']), layer_1['bias'])\n",
    "    operation_layer1 = tf.nn.relu(operation_layer1)\n",
    "    \n",
    "    operation_layer2 = tf.add(tf.matmul(operation_layer1, layer_2['weights']), layer_2['bias'])\n",
    "    operation_layer2 = tf.nn.relu(operation_layer2)\n",
    "    \n",
    "    operation_output = tf.add(tf.matmul(operation_layer2, output_layer['weights']), output_layer['bias'])\n",
    "    return operation_output\n",
    "\n",
    "def prediction(features):\n",
    "    prediction = model(features)\n",
    "    \n",
    "    #saved file location to retriev Saver object\n",
    "    save_file = './HousePrices_train_model.ckpt'\n",
    "    saver = tf.train.Saver()\n",
    "    \n",
    "    with tf.Session() as sess:\n",
    "        saver.restore(sess, save_file)\n",
    "        \n",
    "        j = 1\n",
    "        while j <= len(X):\n",
    "            predict = sess.run([prediction], feed_dict={x: X[j-1:j]})\n",
    "            prediction_array.append(predict)\n",
    "            j += 1\n",
    "        \n",
    "prediction(x)\n",
    "prediction_array[0]"
   ]
  },
  {
   "cell_type": "code",
   "execution_count": null,
   "metadata": {},
   "outputs": [],
   "source": []
  }
 ],
 "metadata": {
  "kernelspec": {
   "display_name": "Python 2",
   "language": "python",
   "name": "python2"
  },
  "language_info": {
   "codemirror_mode": {
    "name": "ipython",
    "version": 2
   },
   "file_extension": ".py",
   "mimetype": "text/x-python",
   "name": "python",
   "nbconvert_exporter": "python",
   "pygments_lexer": "ipython2",
   "version": "2.7.12"
  }
 },
 "nbformat": 4,
 "nbformat_minor": 2
}
